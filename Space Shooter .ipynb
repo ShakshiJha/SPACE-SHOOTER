{
 "cells": [
  {
   "cell_type": "code",
   "execution_count": 1,
   "id": "a084972e",
   "metadata": {},
   "outputs": [
    {
     "name": "stdout",
     "output_type": "stream",
     "text": [
      "pygame 2.0.2 (SDL 2.0.16, Python 3.8.8)\n",
      "Hello from the pygame community. https://www.pygame.org/contribute.html\n"
     ]
    }
   ],
   "source": [
    "import pygame \n",
    "import sys\n",
    "from pygame.locals import *\n",
    "import math \n",
    "import random "
   ]
  },
  {
   "cell_type": "code",
   "execution_count": 2,
   "id": "778d642b",
   "metadata": {},
   "outputs": [
    {
     "data": {
      "text/plain": [
       "(5, 0)"
      ]
     },
     "execution_count": 2,
     "metadata": {},
     "output_type": "execute_result"
    }
   ],
   "source": [
    "#intialize the pygame \n",
    "pygame.init()"
   ]
  },
  {
   "cell_type": "code",
   "execution_count": 3,
   "id": "0a1f124e",
   "metadata": {},
   "outputs": [],
   "source": [
    "def player(x,y):\n",
    "     screen.blit(playerImg,(x,y))"
   ]
  },
  {
   "cell_type": "code",
   "execution_count": 4,
   "id": "4e6ac22c",
   "metadata": {},
   "outputs": [],
   "source": [
    "def enemy(x,y,i):\n",
    "    screen.blit(enemyImg,(x,y))"
   ]
  },
  {
   "cell_type": "code",
   "execution_count": 5,
   "id": "bede76d6",
   "metadata": {},
   "outputs": [],
   "source": [
    "def bullet(x,y):\n",
    "    screen.blit(bulletImg,(x+16,y+10))"
   ]
  },
  {
   "cell_type": "code",
   "execution_count": 6,
   "id": "79c0e47c",
   "metadata": {},
   "outputs": [],
   "source": [
    "def collision_be(enemyX,enemyY,bulletX,bulletY):\n",
    "    distance=math.sqrt((math.pow(enemyX-bulletX,2))+(math.pow(enemyY-bulletY,2)))\n",
    "    if distance<27:\n",
    "        return True\n",
    "    else:\n",
    "        return False"
   ]
  },
  {
   "cell_type": "code",
   "execution_count": 7,
   "id": "58027033",
   "metadata": {},
   "outputs": [],
   "source": [
    "def display_score(score):\n",
    "    S=Font.render(\"SCORE : \"+str(score),True,(255,255,255))\n",
    "    screen.blit(S,(10,10))"
   ]
  },
  {
   "cell_type": "code",
   "execution_count": 8,
   "id": "754ebc4d",
   "metadata": {},
   "outputs": [],
   "source": [
    "def collision_se(enemyX,enemyY,playerX,playerY):\n",
    "    distance=math.sqrt((math.pow(enemyX-playerX,2))+(math.pow(enemyY-playerY,2)))\n",
    "    if distance<32:\n",
    "        return True\n",
    "    else:\n",
    "        return False"
   ]
  },
  {
   "cell_type": "code",
   "execution_count": 9,
   "id": "1cce1736",
   "metadata": {},
   "outputs": [],
   "source": [
    "def game_over():\n",
    "    S=Over_Font.render(\"GAME OVER\",True,(255,255,255))\n",
    "    screen.blit(S,(200,250))   "
   ]
  },
  {
   "cell_type": "code",
   "execution_count": 10,
   "id": "f8739d5e",
   "metadata": {},
   "outputs": [],
   "source": [
    "def WelcomeScreen():\n",
    "    while True:\n",
    "        for event in pygame.event.get():\n",
    "            if event.type==QUIT or (event.type==KEYDOWN and event.key==K_ESCAPE):\n",
    "                pygame.quit()\n",
    "                sys.exit()\n",
    "            elif event.type==KEYDOWN and (event.key==K_SPACE or event.key == K_UP):\n",
    "                return \n",
    "            else:\n",
    "                screen.fill((0, 0, 0))\n",
    "                screen.blit(background,(0,0))\n",
    "                S=Font.render(\"Press any key to start\",True,(255,255,255))\n",
    "                screen.blit(S,(200,300))\n",
    "                player(370,480)\n",
    "                pygame.display.update()"
   ]
  },
  {
   "cell_type": "code",
   "execution_count": 11,
   "id": "20b4656c",
   "metadata": {},
   "outputs": [],
   "source": [
    "def mainGame():\n",
    "    playerX = 370\n",
    "    playerY = 480\n",
    "    player_change = 0\n",
    "    enemyX=[]\n",
    "#     enemyImg[]\n",
    "    enemyY=[]\n",
    "    no_of_enemies=10\n",
    "    enemy_change=0.4\n",
    "    bullet_state=\"ready\"\n",
    "    bulletX=0\n",
    "    bulletY=480\n",
    "    bullet_change=3\n",
    "    score=0\n",
    "    for i in range(no_of_enemies):\n",
    "#         enemyImg.append(pygame.image.load('C:/Users/Shakshi/Downloads/enemy.png'))\n",
    "        enemyX.append(random.randint(30,770))\n",
    "        enemyY.append(random.randint(-250, -100))\n",
    "    while running:\n",
    "        screen.fill((0,0,0))\n",
    "        screen.blit(background,(0,0))\n",
    "        for event in pygame.event.get():\n",
    "            if event.type == QUIT or (event.type == KEYDOWN and event.key == K_ESCAPE):\n",
    "                pygame.quit()\n",
    "                sys.exit()\n",
    "            if event.type == pygame.KEYDOWN:\n",
    "                if event.key == pygame.K_LEFT:\n",
    "                    player_change = -0.3\n",
    "                if event.key == pygame.K_RIGHT:\n",
    "                    player_change = 0.3\n",
    "                if event.key == pygame.K_SPACE:\n",
    "                    if bullet_state == \"ready\":\n",
    "                        laser_sound.play()\n",
    "                        bulletX = playerX\n",
    "                        bullet_state=\"fire\"\n",
    "                        bullet(bulletX, bulletY)    \n",
    "            if event.type == pygame.KEYUP:\n",
    "                if event.key == pygame.K_LEFT or event.key == pygame.K_RIGHT:\n",
    "                    player_change = 0             \n",
    "        for i in range(no_of_enemies):\n",
    "            if collision_se(enemyX[i],enemyY[i],playerX,playerY):\n",
    "                explosion_sound.play()\n",
    "                game_over()\n",
    "                return \n",
    "            enemyY[i] += enemy_change\n",
    "            if enemyY[i]>600:\n",
    "                enemyX[i]=random.randint(30,770)\n",
    "                enemyY[i]=random.randint(-250,-100)\n",
    "            if collision_be(enemyX[i],enemyY[i],bulletX,bulletY):\n",
    "                explosion_sound.play()\n",
    "                bulletY = 480\n",
    "                bullet_state = \"ready\"\n",
    "                score += 1\n",
    "                enemyX[i] = random.randint(30, 770)\n",
    "                enemyY[i] = random.randint(-250, -100)\n",
    "            enemy(enemyX[i], enemyY[i], i)   \n",
    "        if bulletY < 0:\n",
    "            bulletY = 480\n",
    "            bullet_state = \"ready\"    \n",
    "        if bullet_state == \"fire\":\n",
    "            bullet(bulletX, bulletY)\n",
    "            bulletY -= bullet_change    \n",
    "        playerX+=player_change\n",
    "        player(playerX,playerY)  \n",
    "        display_score(score)\n",
    "        pygame.display.update()"
   ]
  },
  {
   "cell_type": "code",
   "execution_count": 12,
   "id": "b3dc625e",
   "metadata": {
    "scrolled": true
   },
   "outputs": [
    {
     "ename": "SystemExit",
     "evalue": "",
     "output_type": "error",
     "traceback": [
      "An exception has occurred, use %tb to see the full traceback.\n",
      "\u001b[1;31mSystemExit\u001b[0m\n"
     ]
    },
    {
     "name": "stderr",
     "output_type": "stream",
     "text": [
      "C:\\Users\\Shakshi\\anaconda3\\lib\\site-packages\\IPython\\core\\interactiveshell.py:3445: UserWarning: To exit: use 'exit', 'quit', or Ctrl-D.\n",
      "  warn(\"To exit: use 'exit', 'quit', or Ctrl-D.\", stacklevel=1)\n"
     ]
    }
   ],
   "source": [
    "screen=pygame.display.set_mode((800,600))\n",
    "pygame.display.set_caption(\"Space Shooter\")\n",
    "icon=pygame.image.load('C:/Users/Shakshi/Downloads/ufo.png')\n",
    "pygame.display.set_icon(icon)\n",
    "Font = pygame.font.Font('freesansbold.ttf', 32)\n",
    "Over_Font=pygame.font.Font('freesansbold.ttf', 64)\n",
    "background=pygame.image.load('C:/Users/Shakshi/Downloads/spacebg.png')\n",
    "background=pygame.transform.scale(background,(800,600))\n",
    "playerImg=pygame.image.load('C:/Users/Shakshi/Downloads/space-invaders.png')\n",
    "laser_sound=pygame.mixer.Sound('C:/Users/Shakshi/Downloads/laser.wav')\n",
    "explosion_sound=pygame.mixer.Sound('C:/Users/Shakshi/Downloads/explosion.wav')\n",
    "enemyImg=pygame.image.load('C:/Users/Shakshi/Downloads/enemy.png')\n",
    "bulletImg=pygame.image.load('C:/Users/Shakshi/Downloads/bullet.png')\n",
    "# playerX = 370\n",
    "# playerY = 480\n",
    "# player_change = 0\n",
    "running=True\n",
    "while running:\n",
    "    WelcomeScreen()\n",
    "    mainGame()            "
   ]
  },
  {
   "cell_type": "code",
   "execution_count": null,
   "id": "60cd7635",
   "metadata": {},
   "outputs": [],
   "source": []
  },
  {
   "cell_type": "code",
   "execution_count": null,
   "id": "560c7630",
   "metadata": {},
   "outputs": [],
   "source": []
  },
  {
   "cell_type": "code",
   "execution_count": null,
   "id": "6ba851e4",
   "metadata": {},
   "outputs": [],
   "source": []
  }
 ],
 "metadata": {
  "kernelspec": {
   "display_name": "Python 3",
   "language": "python",
   "name": "python3"
  },
  "language_info": {
   "codemirror_mode": {
    "name": "ipython",
    "version": 3
   },
   "file_extension": ".py",
   "mimetype": "text/x-python",
   "name": "python",
   "nbconvert_exporter": "python",
   "pygments_lexer": "ipython3",
   "version": "3.8.8"
  }
 },
 "nbformat": 4,
 "nbformat_minor": 5
}
